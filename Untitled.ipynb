{
 "cells": [
  {
   "cell_type": "code",
   "execution_count": 19,
   "id": "5f9cdb1a-1bb3-4bc7-bc8f-e80b885c3fac",
   "metadata": {},
   "outputs": [],
   "source": [
    "import os\n",
    "from dotenv import load_dotenv"
   ]
  },
  {
   "cell_type": "code",
   "execution_count": 20,
   "id": "d6efd363-5bb5-4dfd-8242-302a0480cdef",
   "metadata": {},
   "outputs": [
    {
     "data": {
      "text/plain": [
       "True"
      ]
     },
     "execution_count": 20,
     "metadata": {},
     "output_type": "execute_result"
    }
   ],
   "source": [
    "load_dotenv()"
   ]
  },
  {
   "cell_type": "code",
   "execution_count": 21,
   "id": "83e8844d-c29e-4efe-834b-1bcf35fae67b",
   "metadata": {},
   "outputs": [
    {
     "data": {
      "text/plain": [
       "str"
      ]
     },
     "execution_count": 21,
     "metadata": {},
     "output_type": "execute_result"
    }
   ],
   "source": [
    "quandl_api_key = os.getenv('API_TEST_KEY_ENV')\n",
    "type(quandl_api_key)"
   ]
  },
  {
   "cell_type": "code",
   "execution_count": 22,
   "id": "37a5705f-8fb3-463a-96ee-04b4c81d286a",
   "metadata": {},
   "outputs": [],
   "source": [
    "quandl_api_key = os.getenv('API_TEST_KEY_ENV')"
   ]
  },
  {
   "cell_type": "code",
   "execution_count": 24,
   "id": "75d35c54-754a-4ab0-bfb9-c103288ad353",
   "metadata": {},
   "outputs": [
    {
     "name": "stdout",
     "output_type": "stream",
     "text": [
      "najibisthename\n"
     ]
    }
   ],
   "source": [
    "print(quandl_api_key)"
   ]
  },
  {
   "cell_type": "markdown",
   "id": "73bbb65f-dce7-4088-9c73-ebad9add784e",
   "metadata": {},
   "source": [
    "done!"
   ]
  }
 ],
 "metadata": {
  "kernelspec": {
   "display_name": "Python 3 (ipykernel)",
   "language": "python",
   "name": "python3"
  },
  "language_info": {
   "codemirror_mode": {
    "name": "ipython",
    "version": 3
   },
   "file_extension": ".py",
   "mimetype": "text/x-python",
   "name": "python",
   "nbconvert_exporter": "python",
   "pygments_lexer": "ipython3",
   "version": "3.7.13"
  }
 },
 "nbformat": 4,
 "nbformat_minor": 5
}
